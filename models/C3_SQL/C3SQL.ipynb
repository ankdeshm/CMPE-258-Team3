{
  "nbformat": 4,
  "nbformat_minor": 0,
  "metadata": {
    "colab": {
      "provenance": []
    },
    "kernelspec": {
      "name": "python3",
      "display_name": "Python 3"
    },
    "language_info": {
      "name": "python"
    }
  },
  "cells": [
    {
      "cell_type": "code",
      "execution_count": null,
      "metadata": {
        "colab": {
          "base_uri": "https://localhost:8080/"
        },
        "id": "JfdWFSamrX0j",
        "outputId": "c5dcf018-14ab-4af9-c0be-a94be03eb567"
      },
      "outputs": [
        {
          "output_type": "stream",
          "name": "stdout",
          "text": [
            "Drive already mounted at /content/drive; to attempt to forcibly remount, call drive.mount(\"/content/drive\", force_remount=True).\n"
          ]
        }
      ],
      "source": [
        "from google.colab import drive\n",
        "drive.mount('/content/drive')"
      ]
    },
    {
      "cell_type": "code",
      "source": [
        "!pip install cohere tiktoken\n",
        "!pip install openai==0.28\n",
        "!pip install rapidfuzz\n",
        "!pip install sql_metadata\n",
        "# !pip install sql_post_process\n",
        "# !pip install get_selfconsistent_output"
      ],
      "metadata": {
        "colab": {
          "base_uri": "https://localhost:8080/"
        },
        "id": "YNo6cIDB00xM",
        "outputId": "56ace7ec-4abe-4c86-e99a-4d3f19e6b9ff"
      },
      "execution_count": null,
      "outputs": [
        {
          "output_type": "stream",
          "name": "stdout",
          "text": [
            "Collecting cohere\n",
            "  Downloading cohere-4.37-py3-none-any.whl (48 kB)\n",
            "\u001b[2K     \u001b[90m━━━━━━━━━━━━━━━━━━━━━━━━━━━━━━━━━━━━━━━━\u001b[0m \u001b[32m48.9/48.9 kB\u001b[0m \u001b[31m1.1 MB/s\u001b[0m eta \u001b[36m0:00:00\u001b[0m\n",
            "\u001b[?25hCollecting tiktoken\n",
            "  Downloading tiktoken-0.5.2-cp310-cp310-manylinux_2_17_x86_64.manylinux2014_x86_64.whl (2.0 MB)\n",
            "\u001b[2K     \u001b[90m━━━━━━━━━━━━━━━━━━━━━━━━━━━━━━━━━━━━━━━━\u001b[0m \u001b[32m2.0/2.0 MB\u001b[0m \u001b[31m31.4 MB/s\u001b[0m eta \u001b[36m0:00:00\u001b[0m\n",
            "\u001b[?25hRequirement already satisfied: aiohttp<4.0,>=3.0 in /usr/local/lib/python3.10/dist-packages (from cohere) (3.9.1)\n",
            "Collecting backoff<3.0,>=2.0 (from cohere)\n",
            "  Downloading backoff-2.2.1-py3-none-any.whl (15 kB)\n",
            "Collecting fastavro<2.0,>=1.8 (from cohere)\n",
            "  Downloading fastavro-1.9.1-cp310-cp310-manylinux_2_17_x86_64.manylinux2014_x86_64.whl (3.1 MB)\n",
            "\u001b[2K     \u001b[90m━━━━━━━━━━━━━━━━━━━━━━━━━━━━━━━━━━━━━━━━\u001b[0m \u001b[32m3.1/3.1 MB\u001b[0m \u001b[31m49.4 MB/s\u001b[0m eta \u001b[36m0:00:00\u001b[0m\n",
            "\u001b[?25hRequirement already satisfied: importlib_metadata<7.0,>=6.0 in /usr/local/lib/python3.10/dist-packages (from cohere) (6.8.0)\n",
            "Requirement already satisfied: requests<3.0.0,>=2.25.0 in /usr/local/lib/python3.10/dist-packages (from cohere) (2.31.0)\n",
            "Requirement already satisfied: urllib3<3,>=1.26 in /usr/local/lib/python3.10/dist-packages (from cohere) (2.0.7)\n",
            "Requirement already satisfied: regex>=2022.1.18 in /usr/local/lib/python3.10/dist-packages (from tiktoken) (2023.6.3)\n",
            "Requirement already satisfied: attrs>=17.3.0 in /usr/local/lib/python3.10/dist-packages (from aiohttp<4.0,>=3.0->cohere) (23.1.0)\n",
            "Requirement already satisfied: multidict<7.0,>=4.5 in /usr/local/lib/python3.10/dist-packages (from aiohttp<4.0,>=3.0->cohere) (6.0.4)\n",
            "Requirement already satisfied: yarl<2.0,>=1.0 in /usr/local/lib/python3.10/dist-packages (from aiohttp<4.0,>=3.0->cohere) (1.9.3)\n",
            "Requirement already satisfied: frozenlist>=1.1.1 in /usr/local/lib/python3.10/dist-packages (from aiohttp<4.0,>=3.0->cohere) (1.4.0)\n",
            "Requirement already satisfied: aiosignal>=1.1.2 in /usr/local/lib/python3.10/dist-packages (from aiohttp<4.0,>=3.0->cohere) (1.3.1)\n",
            "Requirement already satisfied: async-timeout<5.0,>=4.0 in /usr/local/lib/python3.10/dist-packages (from aiohttp<4.0,>=3.0->cohere) (4.0.3)\n",
            "Requirement already satisfied: zipp>=0.5 in /usr/local/lib/python3.10/dist-packages (from importlib_metadata<7.0,>=6.0->cohere) (3.17.0)\n",
            "Requirement already satisfied: charset-normalizer<4,>=2 in /usr/local/lib/python3.10/dist-packages (from requests<3.0.0,>=2.25.0->cohere) (3.3.2)\n",
            "Requirement already satisfied: idna<4,>=2.5 in /usr/local/lib/python3.10/dist-packages (from requests<3.0.0,>=2.25.0->cohere) (3.6)\n",
            "Requirement already satisfied: certifi>=2017.4.17 in /usr/local/lib/python3.10/dist-packages (from requests<3.0.0,>=2.25.0->cohere) (2023.11.17)\n",
            "Installing collected packages: fastavro, backoff, tiktoken, cohere\n",
            "\u001b[31mERROR: pip's dependency resolver does not currently take into account all the packages that are installed. This behaviour is the source of the following dependency conflicts.\n",
            "llmx 0.0.15a0 requires openai, which is not installed.\u001b[0m\u001b[31m\n",
            "\u001b[0mSuccessfully installed backoff-2.2.1 cohere-4.37 fastavro-1.9.1 tiktoken-0.5.2\n",
            "Collecting openai==0.28\n",
            "  Downloading openai-0.28.0-py3-none-any.whl (76 kB)\n",
            "\u001b[2K     \u001b[90m━━━━━━━━━━━━━━━━━━━━━━━━━━━━━━━━━━━━━━━━\u001b[0m \u001b[32m76.5/76.5 kB\u001b[0m \u001b[31m2.6 MB/s\u001b[0m eta \u001b[36m0:00:00\u001b[0m\n",
            "\u001b[?25hRequirement already satisfied: requests>=2.20 in /usr/local/lib/python3.10/dist-packages (from openai==0.28) (2.31.0)\n",
            "Requirement already satisfied: tqdm in /usr/local/lib/python3.10/dist-packages (from openai==0.28) (4.66.1)\n",
            "Requirement already satisfied: aiohttp in /usr/local/lib/python3.10/dist-packages (from openai==0.28) (3.9.1)\n",
            "Requirement already satisfied: charset-normalizer<4,>=2 in /usr/local/lib/python3.10/dist-packages (from requests>=2.20->openai==0.28) (3.3.2)\n",
            "Requirement already satisfied: idna<4,>=2.5 in /usr/local/lib/python3.10/dist-packages (from requests>=2.20->openai==0.28) (3.6)\n",
            "Requirement already satisfied: urllib3<3,>=1.21.1 in /usr/local/lib/python3.10/dist-packages (from requests>=2.20->openai==0.28) (2.0.7)\n",
            "Requirement already satisfied: certifi>=2017.4.17 in /usr/local/lib/python3.10/dist-packages (from requests>=2.20->openai==0.28) (2023.11.17)\n",
            "Requirement already satisfied: attrs>=17.3.0 in /usr/local/lib/python3.10/dist-packages (from aiohttp->openai==0.28) (23.1.0)\n",
            "Requirement already satisfied: multidict<7.0,>=4.5 in /usr/local/lib/python3.10/dist-packages (from aiohttp->openai==0.28) (6.0.4)\n",
            "Requirement already satisfied: yarl<2.0,>=1.0 in /usr/local/lib/python3.10/dist-packages (from aiohttp->openai==0.28) (1.9.3)\n",
            "Requirement already satisfied: frozenlist>=1.1.1 in /usr/local/lib/python3.10/dist-packages (from aiohttp->openai==0.28) (1.4.0)\n",
            "Requirement already satisfied: aiosignal>=1.1.2 in /usr/local/lib/python3.10/dist-packages (from aiohttp->openai==0.28) (1.3.1)\n",
            "Requirement already satisfied: async-timeout<5.0,>=4.0 in /usr/local/lib/python3.10/dist-packages (from aiohttp->openai==0.28) (4.0.3)\n",
            "Installing collected packages: openai\n",
            "Successfully installed openai-0.28.0\n",
            "Collecting rapidfuzz\n",
            "  Downloading rapidfuzz-3.5.2-cp310-cp310-manylinux_2_17_x86_64.manylinux2014_x86_64.whl (3.3 MB)\n",
            "\u001b[2K     \u001b[90m━━━━━━━━━━━━━━━━━━━━━━━━━━━━━━━━━━━━━━━━\u001b[0m \u001b[32m3.3/3.3 MB\u001b[0m \u001b[31m15.8 MB/s\u001b[0m eta \u001b[36m0:00:00\u001b[0m\n",
            "\u001b[?25hInstalling collected packages: rapidfuzz\n",
            "Successfully installed rapidfuzz-3.5.2\n",
            "Collecting sql_metadata\n",
            "  Downloading sql_metadata-2.10.0-py3-none-any.whl (22 kB)\n",
            "Requirement already satisfied: sqlparse<0.5.0,>=0.4.1 in /usr/local/lib/python3.10/dist-packages (from sql_metadata) (0.4.4)\n",
            "Installing collected packages: sql_metadata\n",
            "Successfully installed sql_metadata-2.10.0\n"
          ]
        }
      ]
    },
    {
      "cell_type": "code",
      "source": [
        "!bash /content/drive/MyDrive/CMPE_258/C3SQL-master/run_c3sql.sh"
      ],
      "metadata": {
        "id": "_hURApLciLqe",
        "colab": {
          "base_uri": "https://localhost:8080/"
        },
        "outputId": "bc82add6-c1e5-4aa9-b794-3e955e366aa7"
      },
      "execution_count": null,
      "outputs": [
        {
          "output_type": "stream",
          "name": "stdout",
          "text": [
            "directory generate_datasets already exists\n",
            "generate prompt...\n",
            "Namespace(input_dataset_path='/content/drive/MyDrive/CMPE_258/C3SQL-master/generate_datasets/column_recall.json', output_dataset_path='/content/drive/MyDrive/CMPE_258/C3SQL-master/generate_datasets/C3_dev.json')\n",
            "Namespace(input_dataset_path='/content/drive/MyDrive/CMPE_258/C3SQL-master/generate_datasets/C3_dev.json', self_consistent=True, n=20, output_dataset_path='/content/drive/MyDrive/CMPE_258/C3SQL-master/predicted_sql.txt', db_dir='/content/drive/MyDrive/CMPE_258/C3SQL-master/data/spider/database')\n",
            "  0% 0/100 [00:00<?, ?it/s]You exceeded your current quota, please check your plan and billing details.\n",
            "api error, wait for 3 seconds and retry...\n",
            " 19% 19/100 [00:23<01:30,  1.12s/it]re_id: 0 p_sql: SELECT stadium.name, stadium.capacity FROM stadium WHERE stadium.highest = (SELECT MAX(avg_attendance) FROM (SELECT stadium_id, AVG(capacity) as avg_attendance FROM concert JOIN stadium ON concert.stadium_id = stadium.stadium_id GROUP BY stadium_id)) exec error...\n",
            "generate again\n",
            " 95% 95/100 [02:51<00:08,  1.63s/it]re_id: 0 p_sql: SELECT model FROM cars_data WHERE horsepower = MIN(horsepower); exec error...\n",
            "generate again\n",
            "re_id: 1 p_sql: SELECT model FROM cars_data WHERE horsepower = ( SELECT MIN(horsepower) FROM cars_data ); exec error...\n",
            "generate again\n",
            "re_id: 2 p_sql: SELECT model FROM cars_data ORDER BY horsepower ASC LIMIT 1; exec error...\n",
            "generate again\n",
            "re_id: 3 p_sql: SELECT model FROM cars_data WHERE horsepower = ( SELECT MIN(horsepower) FROM cars_data ); exec error...\n",
            "generate again\n",
            " 96% 96/100 [03:02<00:16,  4.23s/it]re_id: 0 p_sql: SELECT model FROM cars_data ORDER BY horsepower ASC LIMIT 1; exec error...\n",
            "generate again\n",
            "re_id: 1 p_sql: SELECT model FROM cars_data ORDER BY horsepower ASC LIMIT 1; exec error...\n",
            "generate again\n",
            "re_id: 2 p_sql: SELECT model FROM cars_data ORDER BY horsepower ASC LIMIT 1; exec error...\n",
            "generate again\n",
            "re_id: 3 p_sql: SELECT model FROM cars_data ORDER BY horsepower ASC LIMIT 1; exec error...\n",
            "generate again\n",
            " 97% 97/100 [03:13<00:18,  6.32s/it]re_id: 0 p_sql: SELECT model FROM cars_data WHERE weight < (SELECT AVG(weight) FROM cars_data); exec error...\n",
            "generate again\n",
            "re_id: 1 p_sql: SELECT model FROM cars_data WHERE weight < (SELECT AVG(weight) FROM cars_data); exec error...\n",
            "generate again\n",
            "re_id: 2 p_sql: SELECT model FROM cars_data WHERE weight < (SELECT AVG(weight) FROM cars_data); exec error...\n",
            "generate again\n",
            "re_id: 3 p_sql: SELECT model FROM cars_data WHERE weight < (SELECT AVG(weight) FROM cars_data); exec error...\n",
            "generate again\n",
            "re_id: 4 p_sql: SELECT model FROM cars_data WHERE weight < (SELECT AVG(weight) FROM cars_data); exec error...\n",
            " 98% 98/100 [03:25<00:16,  8.03s/it]re_id: 0 p_sql: SELECT model FROM cars_data WHERE weight < (SELECT AVG(weight) FROM cars_data); exec error...\n",
            "generate again\n",
            "re_id: 1 p_sql: SELECT model FROM cars_data WHERE weight < (SELECT AVG(weight) FROM cars_data); exec error...\n",
            "generate again\n",
            "re_id: 2 p_sql: SELECT model FROM cars_data WHERE weight < (SELECT AVG(weight) FROM cars_data); exec error...\n",
            "generate again\n",
            "re_id: 3 p_sql: SELECT model FROM cars_data WHERE weight < (SELECT AVG(weight) FROM cars_data) exec error...\n",
            "generate again\n",
            "re_id: 4 p_sql: SELECT model FROM cars_data WHERE weight < (SELECT AVG(weight) FROM cars_data); exec error...\n",
            "100% 100/100 [03:39<00:00,  2.20s/it]\n",
            "100% 100/100 [00:17<00:00,  5.74it/s]\n",
            "save chosen sqls and results...\n"
          ]
        }
      ]
    },
    {
      "cell_type": "code",
      "source": [
        "!bash /content/drive/MyDrive/CMPE_258/C3SQL-master/run_c3sql.sh"
      ],
      "metadata": {
        "colab": {
          "base_uri": "https://localhost:8080/"
        },
        "id": "KxuBsuI-9pH_",
        "outputId": "c805b057-c34c-4759-a40b-8949a8dd3e56"
      },
      "execution_count": null,
      "outputs": [
        {
          "output_type": "stream",
          "name": "stdout",
          "text": [
            "create directory generate_datasets\n",
            "recall columns...\n",
            "Namespace(input_recalled_tables_path='/content/drive/MyDrive/CMPE_258/C3SQL-master/generate_datasets/table_recall.json', self_consistent=True, n=10, add_fk=True, output_recalled_columns_path='/content/drive/MyDrive/CMPE_258/C3SQL-master/generate_datasets/column_recall.json')\n",
            "  2% 22/1034 [24:08<17:29:53, 62.25s/it]list error\n",
            "  8% 82/1034 [1:15:30<8:58:44, 33.95s/it]list error\n",
            " 22% 229/1034 [3:46:03<9:37:58, 43.08s/it] list error\n",
            " 24% 243/1034 [4:00:25<12:33:07, 57.13s/it]list error\n",
            " 37% 387/1034 [6:21:56<6:31:56, 36.35s/it]list error\n",
            " 40% 412/1034 [6:37:45<6:38:08, 38.41s/it]list error\n",
            " 40% 413/1034 [6:39:09<9:00:34, 52.23s/it]list error\n",
            " 41% 426/1034 [6:47:55<6:34:16, 38.91s/it]"
          ]
        }
      ]
    },
    {
      "cell_type": "code",
      "source": [],
      "metadata": {
        "id": "yO8JIb-tZoXo"
      },
      "execution_count": null,
      "outputs": []
    }
  ]
}