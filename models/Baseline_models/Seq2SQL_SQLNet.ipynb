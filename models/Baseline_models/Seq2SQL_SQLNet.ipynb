{
  "nbformat": 4,
  "nbformat_minor": 0,
  "metadata": {
    "colab": {
      "provenance": [],
      "machine_shape": "hm",
      "gpuType": "T4"
    },
    "kernelspec": {
      "name": "python3",
      "display_name": "Python 3"
    },
    "language_info": {
      "name": "python"
    },
    "accelerator": "GPU"
  },
  "cells": [
    {
      "cell_type": "code",
      "source": [
        "# !tar -xvjf /content/drive/MyDrive/258/SQLNet/data.tar.bz2"
      ],
      "metadata": {
        "id": "EPyEnHAB2LPu"
      },
      "execution_count": 1,
      "outputs": []
    },
    {
      "cell_type": "code",
      "source": [
        "# !pip install --upgrade sqlalchemy\n",
        "# !pip install --upgrade Babel\n",
        "!pip install torch torchvision torchaudio\n",
        "!pip install --upgrade records sqlalchemy Babel"
      ],
      "metadata": {
        "colab": {
          "base_uri": "https://localhost:8080/"
        },
        "id": "bmt6C_ro4o8S",
        "outputId": "bfec4715-54a8-4542-ec82-b1211a1d94d0"
      },
      "execution_count": 2,
      "outputs": [
        {
          "output_type": "stream",
          "name": "stdout",
          "text": [
            "Requirement already satisfied: torch in /usr/local/lib/python3.10/dist-packages (2.1.0+cu118)\n",
            "Requirement already satisfied: torchvision in /usr/local/lib/python3.10/dist-packages (0.16.0+cu118)\n",
            "Requirement already satisfied: torchaudio in /usr/local/lib/python3.10/dist-packages (2.1.0+cu118)\n",
            "Requirement already satisfied: filelock in /usr/local/lib/python3.10/dist-packages (from torch) (3.13.1)\n",
            "Requirement already satisfied: typing-extensions in /usr/local/lib/python3.10/dist-packages (from torch) (4.5.0)\n",
            "Requirement already satisfied: sympy in /usr/local/lib/python3.10/dist-packages (from torch) (1.12)\n",
            "Requirement already satisfied: networkx in /usr/local/lib/python3.10/dist-packages (from torch) (3.2.1)\n",
            "Requirement already satisfied: jinja2 in /usr/local/lib/python3.10/dist-packages (from torch) (3.1.2)\n",
            "Requirement already satisfied: fsspec in /usr/local/lib/python3.10/dist-packages (from torch) (2023.6.0)\n",
            "Requirement already satisfied: triton==2.1.0 in /usr/local/lib/python3.10/dist-packages (from torch) (2.1.0)\n",
            "Requirement already satisfied: numpy in /usr/local/lib/python3.10/dist-packages (from torchvision) (1.23.5)\n",
            "Requirement already satisfied: requests in /usr/local/lib/python3.10/dist-packages (from torchvision) (2.31.0)\n",
            "Requirement already satisfied: pillow!=8.3.*,>=5.3.0 in /usr/local/lib/python3.10/dist-packages (from torchvision) (9.4.0)\n",
            "Requirement already satisfied: MarkupSafe>=2.0 in /usr/local/lib/python3.10/dist-packages (from jinja2->torch) (2.1.3)\n",
            "Requirement already satisfied: charset-normalizer<4,>=2 in /usr/local/lib/python3.10/dist-packages (from requests->torchvision) (3.3.2)\n",
            "Requirement already satisfied: idna<4,>=2.5 in /usr/local/lib/python3.10/dist-packages (from requests->torchvision) (3.4)\n",
            "Requirement already satisfied: urllib3<3,>=1.21.1 in /usr/local/lib/python3.10/dist-packages (from requests->torchvision) (2.0.7)\n",
            "Requirement already satisfied: certifi>=2017.4.17 in /usr/local/lib/python3.10/dist-packages (from requests->torchvision) (2023.7.22)\n",
            "Requirement already satisfied: mpmath>=0.19 in /usr/local/lib/python3.10/dist-packages (from sympy->torch) (1.3.0)\n",
            "Requirement already satisfied: records in /usr/local/lib/python3.10/dist-packages (0.5.3)\n",
            "Requirement already satisfied: sqlalchemy in /usr/local/lib/python3.10/dist-packages (2.0.23)\n",
            "Requirement already satisfied: Babel in /usr/local/lib/python3.10/dist-packages (2.13.1)\n",
            "Requirement already satisfied: openpyxl<2.5.0 in /usr/local/lib/python3.10/dist-packages (from records) (2.4.11)\n",
            "Requirement already satisfied: tablib>=0.11.4 in /usr/local/lib/python3.10/dist-packages (from records) (3.5.0)\n",
            "Requirement already satisfied: docopt in /usr/local/lib/python3.10/dist-packages (from records) (0.6.2)\n",
            "Requirement already satisfied: typing-extensions>=4.2.0 in /usr/local/lib/python3.10/dist-packages (from sqlalchemy) (4.5.0)\n",
            "Requirement already satisfied: greenlet!=0.4.17 in /usr/local/lib/python3.10/dist-packages (from sqlalchemy) (3.0.1)\n",
            "Requirement already satisfied: jdcal in /usr/local/lib/python3.10/dist-packages (from openpyxl<2.5.0->records) (1.4.1)\n",
            "Requirement already satisfied: et-xmlfile in /usr/local/lib/python3.10/dist-packages (from openpyxl<2.5.0->records) (1.1.0)\n"
          ]
        }
      ]
    },
    {
      "cell_type": "code",
      "source": [
        "import torch\n",
        "print(torch.__version__)"
      ],
      "metadata": {
        "colab": {
          "base_uri": "https://localhost:8080/"
        },
        "id": "0gc6iprA4FLi",
        "outputId": "a4c8cc37-ca46-44cd-8269-c768c175a9cb"
      },
      "execution_count": 3,
      "outputs": [
        {
          "output_type": "stream",
          "name": "stdout",
          "text": [
            "2.1.0+cu118\n"
          ]
        }
      ]
    },
    {
      "cell_type": "code",
      "source": [
        "if torch.cuda.is_available():\n",
        "    print(\"CUDA is available.\")\n",
        "else:\n",
        "    print(\"CUDA is not available. Using CPU instead.\")"
      ],
      "metadata": {
        "colab": {
          "base_uri": "https://localhost:8080/"
        },
        "id": "OzhCzonXHa4T",
        "outputId": "b2d24507-1d73-49ac-9609-9c4f19954873"
      },
      "execution_count": 4,
      "outputs": [
        {
          "output_type": "stream",
          "name": "stdout",
          "text": [
            "CUDA is available.\n"
          ]
        }
      ]
    },
    {
      "cell_type": "code",
      "source": [
        "!pwd"
      ],
      "metadata": {
        "colab": {
          "base_uri": "https://localhost:8080/"
        },
        "id": "efPemV8I46GB",
        "outputId": "2e3d212f-c21a-4049-8376-1dbc15d7e6b2"
      },
      "execution_count": 5,
      "outputs": [
        {
          "output_type": "stream",
          "name": "stdout",
          "text": [
            "/content\n"
          ]
        }
      ]
    },
    {
      "cell_type": "code",
      "source": [
        "cd /content/drive/MyDrive/258/SQLNet"
      ],
      "metadata": {
        "colab": {
          "base_uri": "https://localhost:8080/"
        },
        "id": "cMiJuohm48xM",
        "outputId": "d7850dfa-525e-4912-f2fb-261f936c6761"
      },
      "execution_count": 6,
      "outputs": [
        {
          "output_type": "stream",
          "name": "stdout",
          "text": [
            "/content/drive/MyDrive/258/SQLNet\n"
          ]
        }
      ]
    },
    {
      "cell_type": "code",
      "source": [
        "# !pip install -r requirements.txt"
      ],
      "metadata": {
        "id": "IuXtndJ35ArG"
      },
      "execution_count": 7,
      "outputs": []
    },
    {
      "cell_type": "code",
      "source": [
        "# this step downloads glove embedding and unzips it\n",
        "# If the glove folder is present inside SQLNet and a zip and a text file exists there, this step can be skipped\n",
        "\n",
        "# !bash download_glove.sh"
      ],
      "metadata": {
        "id": "5RpTiJCn5D38"
      },
      "execution_count": 8,
      "outputs": []
    },
    {
      "cell_type": "code",
      "source": [
        "!python extract_vocab.py"
      ],
      "metadata": {
        "colab": {
          "base_uri": "https://localhost:8080/"
        },
        "id": "wPSm4DlQ6FHE",
        "outputId": "8ac0d1e3-bcb4-4dc3-b412-8c6c7ee49960"
      },
      "execution_count": 9,
      "outputs": [
        {
          "output_type": "stream",
          "name": "stdout",
          "text": [
            "Loading from original dataset\n",
            "Loading data from /content/drive/MyDrive/258/SQLNet/sqlnet/data/train_tok.jsonl\n",
            "Loading data from /content/drive/MyDrive/258/SQLNet/sqlnet/data/train_tok.tables.jsonl\n",
            "Loading data from /content/drive/MyDrive/258/SQLNet/sqlnet/data/dev_tok.jsonl\n",
            "Loading data from /content/drive/MyDrive/258/SQLNet/sqlnet/data/dev_tok.tables.jsonl\n",
            "Loading data from /content/drive/MyDrive/258/SQLNet/sqlnet/data/test_tok.jsonl\n",
            "Loading data from /content/drive/MyDrive/258/SQLNet/sqlnet/data/test_tok.tables.jsonl\n",
            "extract_vocab.py: load_dataset done\n",
            "Loading word embedding from glove/glove.42B.300d.txt\n",
            "extract_vocab.py: load_word_emb done\n",
            "Length of word vocabulary: 1917495\n",
            "Length of used word vocab: 39936\n"
          ]
        }
      ]
    },
    {
      "cell_type": "code",
      "source": [
        "# All the paths and import statements are adjusted according to the current working directory = SQLNet\n",
        "!python train.py -h"
      ],
      "metadata": {
        "colab": {
          "base_uri": "https://localhost:8080/"
        },
        "id": "eyg3ImmgTFbm",
        "outputId": "6528dc8d-f611-40c1-9615-a8cb1c82a8f6"
      },
      "execution_count": 10,
      "outputs": [
        {
          "output_type": "stream",
          "name": "stdout",
          "text": [
            "usage: train.py [-h] [--toy] [--suffix SUFFIX] [--ca] [--dataset DATASET] [--rl] [--baseline]\n",
            "                [--train_emb]\n",
            "\n",
            "options:\n",
            "  -h, --help         show this help message and exit\n",
            "  --toy              If set, use small data; used for fast debugging.\n",
            "  --suffix SUFFIX    The suffix at the end of saved model name.\n",
            "  --ca               Use conditional attention.\n",
            "  --dataset DATASET  0: original dataset, 1: re-split dataset\n",
            "  --rl               Use RL for Seq2SQL(requires pretrained model).\n",
            "  --baseline         If set, then train Seq2SQL model; default is SQLNet model.\n",
            "  --train_emb        Train word embedding for SQLNet(requires pretrained model).\n"
          ]
        }
      ]
    },
    {
      "cell_type": "markdown",
      "source": [
        "## Train a SQLNet model with column attention:"
      ],
      "metadata": {
        "id": "xdkgNKlkKLrN"
      }
    },
    {
      "cell_type": "code",
      "source": [
        "# !python train.py --ca"
      ],
      "metadata": {
        "id": "Xl4FMO649JSM"
      },
      "execution_count": 11,
      "outputs": []
    },
    {
      "cell_type": "code",
      "source": [
        "# !python test.py --ca"
      ],
      "metadata": {
        "id": "EWgLEExEicB3"
      },
      "execution_count": 12,
      "outputs": []
    },
    {
      "cell_type": "markdown",
      "source": [
        "## Train a SQLNet model with column attention and trainable embedding"
      ],
      "metadata": {
        "id": "kdL_EP0iKW3t"
      }
    },
    {
      "cell_type": "code",
      "source": [
        "# !python train.py --ca --train_emb"
      ],
      "metadata": {
        "id": "RFoI2keRktHm"
      },
      "execution_count": 13,
      "outputs": []
    },
    {
      "cell_type": "code",
      "source": [
        "# !python test.py --ca --train_emb"
      ],
      "metadata": {
        "id": "2_xe_ODad6Gf"
      },
      "execution_count": 14,
      "outputs": []
    },
    {
      "cell_type": "markdown",
      "source": [
        "## Pretrain a Seq2SQL model on the re-splitted dataset"
      ],
      "metadata": {
        "id": "yie9iKCLKaTu"
      }
    },
    {
      "cell_type": "code",
      "source": [
        "!python train.py --baseline --dataset 1"
      ],
      "metadata": {
        "colab": {
          "base_uri": "https://localhost:8080/"
        },
        "id": "_GH0qfZRd6A3",
        "outputId": "31238f5b-a2fc-40a5-fa93-a4ce9f3232fd"
      },
      "execution_count": 23,
      "outputs": [
        {
          "output_type": "stream",
          "name": "stdout",
          "text": [
            "Loading from re-split dataset\n",
            "Loading data from /content/drive/MyDrive/258/SQLNet/sqlnet/data_resplit/train.jsonl\n",
            "Loading data from /content/drive/MyDrive/258/SQLNet/sqlnet/data_resplit/tables.jsonl\n",
            "Loading data from /content/drive/MyDrive/258/SQLNet/sqlnet/data_resplit/dev.jsonl\n",
            "Loading data from /content/drive/MyDrive/258/SQLNet/sqlnet/data_resplit/tables.jsonl\n",
            "Loading data from /content/drive/MyDrive/258/SQLNet/sqlnet/data_resplit/test.jsonl\n",
            "Loading data from /content/drive/MyDrive/258/SQLNet/sqlnet/data_resplit/tables.jsonl\n",
            "Loading word embedding from /content/drive/MyDrive/258/SQLNet/glove/glove.42B.300d.txt\n",
            "Using fixed embedding\n",
            "Not using column attention on aggregator predicting\n",
            "Not using column attention on selection predicting\n",
            "Seq2SQL where prediction\n",
            "/usr/local/lib/python3.10/dist-packages/torch/nn/modules/module.py:1518: UserWarning: Implicit dimension choice for softmax has been deprecated. Change the call to include dim=X as an argument.\n",
            "  return self._call_impl(*args, **kwargs)\n",
            "Init dev acc_qm: breakdown on (agg, sel, where): {init_acc}\n",
            "Epoch (1, datetime.datetime(2023, 11, 12, 6, 37, 0, 513687))\n",
            "Loss = 3.4342381860788707\n",
            "Train acc_qm: breakdown result:(0.07779133618059793, array([0.89714524, 0.370412  , 0.22097877]))\n",
            "Dev acc_qm: breakdown result: (0.06401045068582625, array([0.91884389, 0.3474853 , 0.18990856]))\n",
            "Best val acc = (0.9188438928804703, 0.3474853037230568, 0.18990855649902025) on epoch (1, 1, 1) individually\n",
            "Epoch (2, datetime.datetime(2023, 11, 12, 6, 40, 57, 426722))\n",
            "Loss = 2.387889095631444\n",
            "Train acc_qm: breakdown result:(0.19113066375517807, array([0.8975627 , 0.61577984, 0.32113612]))\n",
            "Dev acc_qm: breakdown result: (0.1534944480731548, array([0.91280209, 0.56890921, 0.2702482 ]))\n",
            "Best val acc = (0.9188438928804703, 0.5689092096668844, 0.2702482037883736) on epoch (1, 2, 2) individually\n",
            "Epoch (3, datetime.datetime(2023, 11, 12, 6, 44, 44, 63435))\n",
            "Loss = 1.8666906016115117\n",
            "Train acc_qm: breakdown result:(0.29730901384027486, array([0.90706785, 0.77116984, 0.39284223]))\n",
            "Dev acc_qm: breakdown result: (0.24395819725669496, array([0.92259961, 0.7235467 , 0.33001306]))\n",
            "Best val acc = (0.9225996080992815, 0.7235467015022861, 0.3300130633572828) on epoch (3, 3, 3) individually\n",
            "Epoch (4, datetime.datetime(2023, 11, 12, 6, 48, 43, 220069))\n",
            "Loss = 1.5499661866994052\n",
            "Train acc_qm: breakdown result:(0.352284769275232, array([0.91063229, 0.82545519, 0.43983816]))\n",
            "Dev acc_qm: breakdown result: (0.2950685826257348, array([0.9248857 , 0.77547355, 0.37557152]))\n",
            "Best val acc = (0.9248856956237753, 0.7754735467015023, 0.37557152188112347) on epoch (4, 4, 4) individually\n",
            "Epoch (5, datetime.datetime(2023, 11, 12, 6, 52, 44, 588867))\n",
            "Loss = 1.3636595145045423\n",
            "Train acc_qm: breakdown result:(0.38969525705661345, array([0.91406827, 0.85406699, 0.47214283]))\n",
            "Dev acc_qm: breakdown result: (0.3233180927498367, array([0.91802743, 0.79980405, 0.40382103]))\n",
            "Best val acc = (0.9248856956237753, 0.7998040496407577, 0.40382103200522534) on epoch (4, 5, 5) individually\n",
            "Epoch (6, datetime.datetime(2023, 11, 12, 6, 56, 51, 258389))\n",
            "Loss = 1.2419328600611326\n",
            "Train acc_qm: breakdown result:(0.42029799942198387, array([0.92036222, 0.87187309, 0.5010597 ]))\n",
            "Dev acc_qm: breakdown result: (0.3510777269758328, array([0.92325278, 0.81466362, 0.42978445]))\n",
            "Best val acc = (0.9248856956237753, 0.8146636185499674, 0.42978445460483344) on epoch (4, 6, 6) individually\n",
            "Epoch (7, datetime.datetime(2023, 11, 12, 7, 0, 46, 774142))\n",
            "Loss = 1.1403114682833915\n",
            "Train acc_qm: breakdown result:(0.4492469734433705, array([0.92572493, 0.88834655, 0.52578594]))\n",
            "Dev acc_qm: breakdown result: (0.3638145003265839, array([0.92308948, 0.82217505, 0.44497061]))\n",
            "Best val acc = (0.9248856956237753, 0.8221750489875899, 0.44497060744611366) on epoch (4, 7, 7) individually\n",
            "Epoch (8, datetime.datetime(2023, 11, 12, 7, 4, 56, 274253))\n",
            "Loss = 1.0557421337493615\n",
            "Train acc_qm: breakdown result:(0.47419800263318457, array([0.93181015, 0.90053306, 0.54583989]))\n",
            "Dev acc_qm: breakdown result: (0.38847158719790986, array([0.91851731, 0.83278903, 0.46864794]))\n",
            "Best val acc = (0.9248856956237753, 0.8327890267798824, 0.46864794252122793) on epoch (4, 8, 8) individually\n",
            "Epoch (9, datetime.datetime(2023, 11, 12, 7, 8, 55, 974482))\n",
            "Loss = 0.987019350386237\n",
            "Train acc_qm: breakdown result:(0.494926302944671, array([0.93677146, 0.90929964, 0.56399923]))\n",
            "Dev acc_qm: breakdown result: (0.393370346178968, array([0.91737427, 0.84046375, 0.47387329]))\n",
            "Best val acc = (0.9248856956237753, 0.8404637491835402, 0.47387328543435664) on epoch (4, 9, 9) individually\n",
            "Epoch (10, datetime.datetime(2023, 11, 12, 7, 12, 52, 244926))\n",
            "Loss = 0.9259444512956799\n",
            "Train acc_qm: breakdown result:(0.5269098615972512, array([0.94426961, 0.92050673, 0.59161556]))\n",
            "Dev acc_qm: breakdown result: (0.40725016329196606, array([0.91508818, 0.85189419, 0.48873285]))\n",
            "Best val acc = (0.9248856956237753, 0.8518941868060091, 0.4887328543435663) on epoch (4, 10, 10) individually\n"
          ]
        }
      ]
    },
    {
      "cell_type": "code",
      "source": [
        "!python test.py --baseline --dataset 1"
      ],
      "metadata": {
        "colab": {
          "base_uri": "https://localhost:8080/"
        },
        "id": "uRVjwAVGd58R",
        "outputId": "3f43768f-43d1-4b28-dfef-38230a9a73b5"
      },
      "execution_count": 24,
      "outputs": [
        {
          "output_type": "stream",
          "name": "stdout",
          "text": [
            "Loading from re-split dataset\n",
            "Loading data from /content/drive/MyDrive/258/SQLNet/sqlnet/data_resplit/train.jsonl\n",
            "Loading data from /content/drive/MyDrive/258/SQLNet/sqlnet/data_resplit/tables.jsonl\n",
            "Loading data from /content/drive/MyDrive/258/SQLNet/sqlnet/data_resplit/dev.jsonl\n",
            "Loading data from /content/drive/MyDrive/258/SQLNet/sqlnet/data_resplit/tables.jsonl\n",
            "Loading data from /content/drive/MyDrive/258/SQLNet/sqlnet/data_resplit/test.jsonl\n",
            "Loading data from /content/drive/MyDrive/258/SQLNet/sqlnet/data_resplit/tables.jsonl\n",
            "Load used word embedding\n",
            "Using trainable embedding\n",
            "Using trainable embedding\n",
            "Using trainable embedding\n",
            "Not using column attention on aggregator predicting\n",
            "Not using column attention on selection predicting\n",
            "Seq2SQL where prediction\n",
            "Loading from /content/drive/MyDrive/258/SQLNet/saved_model/new_seq2sql.agg_model\n",
            "Loading from /content/drive/MyDrive/258/SQLNet/saved_model/new_seq2sql.sel_model\n",
            "Loading from /content/drive/MyDrive/258/SQLNet/saved_model/new_seq2sql.cond_model\n",
            "/usr/local/lib/python3.10/dist-packages/torch/nn/modules/module.py:1518: UserWarning: Implicit dimension choice for softmax has been deprecated. Change the call to include dim=X as an argument.\n",
            "  return self._call_impl(*args, **kwargs)\n",
            "Dev acc_qm: breakdown on (agg, sel, where): (0.41345525800130634, array([0.9248857 , 0.85189419, 0.48873285]))\n",
            "Dev execution acc: 0.4988569562377531\n",
            "Test acc_qm: breakdown on (agg, sel, where): (0.41623122142390595, array([0.92039517, 0.85336381, 0.49706074]))\n",
            "Test execution acc: 0.505388634879164\n"
          ]
        }
      ]
    },
    {
      "cell_type": "markdown",
      "source": [
        "## Train a Seq2SQL model with Reinforcement Learning after pretraining"
      ],
      "metadata": {
        "id": "8bivtipsKbJf"
      }
    },
    {
      "cell_type": "code",
      "source": [
        "!python train.py --baseline --dataset 1 --rl"
      ],
      "metadata": {
        "id": "hhPA2otBij8t",
        "colab": {
          "base_uri": "https://localhost:8080/"
        },
        "outputId": "47bbdede-a3c6-482f-b066-628e7666c34e"
      },
      "execution_count": 25,
      "outputs": [
        {
          "output_type": "stream",
          "name": "stdout",
          "text": [
            "Loading from re-split dataset\n",
            "Loading data from /content/drive/MyDrive/258/SQLNet/sqlnet/data_resplit/train.jsonl\n",
            "Loading data from /content/drive/MyDrive/258/SQLNet/sqlnet/data_resplit/tables.jsonl\n",
            "Loading data from /content/drive/MyDrive/258/SQLNet/sqlnet/data_resplit/dev.jsonl\n",
            "Loading data from /content/drive/MyDrive/258/SQLNet/sqlnet/data_resplit/tables.jsonl\n",
            "Loading data from /content/drive/MyDrive/258/SQLNet/sqlnet/data_resplit/test.jsonl\n",
            "Loading data from /content/drive/MyDrive/258/SQLNet/sqlnet/data_resplit/tables.jsonl\n",
            "Loading word embedding from /content/drive/MyDrive/258/SQLNet/glove/glove.42B.300d.txt\n",
            "Using fixed embedding\n",
            "Not using column attention on aggregator predicting\n",
            "Not using column attention on selection predicting\n",
            "Seq2SQL where prediction\n",
            "Loading from /content/drive/MyDrive/258/SQLNet/saved_model/new_seq2sql.agg_model\n",
            "Loading from /content/drive/MyDrive/258/SQLNet/saved_model/new_seq2sql.sel_model\n",
            "Loading from /content/drive/MyDrive/258/SQLNet/saved_model/new_seq2sql.cond_model\n",
            "/usr/local/lib/python3.10/dist-packages/torch/nn/modules/module.py:1518: UserWarning: Implicit dimension choice for softmax has been deprecated. Change the call to include dim=X as an argument.\n",
            "  return self._call_impl(*args, **kwargs)\n",
            "Init dev acc_qm: breakdown on (agg, sel, where):(0.41345525800130634, array([0.9248857 , 0.85189419, 0.48873285]))\n",
            "Init dev acc_ex: 0.4988569562377531\n",
            "Epoch (1, datetime.datetime(2023, 11, 12, 7, 27, 43, 526889))\n",
            "Traceback (most recent call last):\n",
            "  File \"/content/drive/MyDrive/258/SQLNet/train.py\", line 84, in <module>\n",
            "    print(f\"Avg reward = {epoch_reinforce_train(model, optimizer, BATCH_SIZE, sql_data, table_data, TRAIN_DB)}\")\n",
            "  File \"/content/drive/MyDrive/258/SQLNet/sqlnet/utils.py\", line 227, in epoch_reinforce_train\n",
            "    score = model.forward(q_seq, col_seq, col_num, (True, True, True),\n",
            "  File \"/content/drive/MyDrive/258/SQLNet/sqlnet/model/seq2sql.py\", line 137, in forward\n",
            "    cond_score = self.cond_pred(x_emb_var, x_len, col_inp_var,\n",
            "  File \"/usr/local/lib/python3.10/dist-packages/torch/nn/modules/module.py\", line 1518, in _wrapped_call_impl\n",
            "    return self._call_impl(*args, **kwargs)\n",
            "  File \"/usr/local/lib/python3.10/dist-packages/torch/nn/modules/module.py\", line 1527, in _call_impl\n",
            "    return forward_call(*args, **kwargs)\n",
            "  File \"/content/drive/MyDrive/258/SQLNet/sqlnet/model/modules/seq2sql_condition_predict.py\", line 101, in forward\n",
            "    ans_tok_var = self.softmax(cur_cond_score).multinomial()\n",
            "TypeError: multinomial() missing 1 required positional arguments: \"num_samples\"\n"
          ]
        }
      ]
    },
    {
      "cell_type": "code",
      "source": [
        "!python test.py --baseline --dataset 1 --rl"
      ],
      "metadata": {
        "id": "XxoqShuIij1S",
        "colab": {
          "base_uri": "https://localhost:8080/"
        },
        "outputId": "fb2f0200-e041-4a7a-bac6-e3b9649eacbd"
      },
      "execution_count": 26,
      "outputs": [
        {
          "output_type": "stream",
          "name": "stdout",
          "text": [
            "Loading from re-split dataset\n",
            "Loading data from /content/drive/MyDrive/258/SQLNet/sqlnet/data_resplit/train.jsonl\n",
            "Loading data from /content/drive/MyDrive/258/SQLNet/sqlnet/data_resplit/tables.jsonl\n",
            "Loading data from /content/drive/MyDrive/258/SQLNet/sqlnet/data_resplit/dev.jsonl\n",
            "Loading data from /content/drive/MyDrive/258/SQLNet/sqlnet/data_resplit/tables.jsonl\n",
            "Loading data from /content/drive/MyDrive/258/SQLNet/sqlnet/data_resplit/test.jsonl\n",
            "Loading data from /content/drive/MyDrive/258/SQLNet/sqlnet/data_resplit/tables.jsonl\n",
            "Load used word embedding\n",
            "Using trainable embedding\n",
            "Using trainable embedding\n",
            "Using trainable embedding\n",
            "Not using column attention on aggregator predicting\n",
            "Not using column attention on selection predicting\n",
            "Seq2SQL where prediction\n",
            "Loading from /content/drive/MyDrive/258/SQLNet/saved_model/new_seq2sql.agg_model\n",
            "Loading from /content/drive/MyDrive/258/SQLNet/saved_model/new_seq2sql.sel_model\n",
            "Loading from /content/drive/MyDrive/258/SQLNet/saved_model/new_seq2sql.cond_rl_model\n",
            "/usr/local/lib/python3.10/dist-packages/torch/nn/modules/module.py:1518: UserWarning: Implicit dimension choice for softmax has been deprecated. Change the call to include dim=X as an argument.\n",
            "  return self._call_impl(*args, **kwargs)\n",
            "Dev acc_qm: breakdown on (agg, sel, where): (0.41345525800130634, array([0.9248857 , 0.85189419, 0.48873285]))\n",
            "Dev execution acc: 0.4988569562377531\n",
            "Test acc_qm: breakdown on (agg, sel, where): (0.41623122142390595, array([0.92039517, 0.85336381, 0.49706074]))\n",
            "Test execution acc: 0.505388634879164\n"
          ]
        }
      ]
    },
    {
      "cell_type": "code",
      "source": [],
      "metadata": {
        "id": "N4ZaOC2JbQ-E"
      },
      "execution_count": null,
      "outputs": []
    }
  ]
}